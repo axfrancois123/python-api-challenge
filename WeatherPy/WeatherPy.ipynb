{
 "cells": [
  {
   "cell_type": "markdown",
   "metadata": {},
   "source": [
    "# WeatherPy\n",
    "----\n",
    "\n",
    "#### Note\n",
    "* Instructions have been included for each segment. You do not have to follow them exactly, but they are included to help you think through the steps."
   ]
  },
  {
   "cell_type": "code",
   "execution_count": 4,
   "metadata": {
    "scrolled": false
   },
   "outputs": [],
   "source": [
    "# Dependencies and Setup\n",
    "import matplotlib.pyplot as plt\n",
    "import pandas as pd\n",
    "import numpy as np\n",
    "import requests\n",
    "import time\n",
    "import requests\n",
    "import json\n",
    "from scipy.stats import linregress\n",
    "\n",
    "# Import API key\n",
    "from api_keys import weather_api_key\n",
    "\n",
    "# Incorporated citipy to determine city based on latitude and longitude\n",
    "from citipy import citipy\n",
    "\n",
    "# Output File (CSV)\n",
    "output_data_file = \"output_data/cities.csv\"\n",
    "\n",
    "# Range of latitudes and longitudes\n",
    "lat_range = (-90, 90)\n",
    "lng_range = (-180, 180)"
   ]
  },
  {
   "cell_type": "markdown",
   "metadata": {},
   "source": [
    "## Generate Cities List"
   ]
  },
  {
   "cell_type": "code",
   "execution_count": 5,
   "metadata": {},
   "outputs": [
    {
     "data": {
      "text/plain": [
       "611"
      ]
     },
     "execution_count": 5,
     "metadata": {},
     "output_type": "execute_result"
    }
   ],
   "source": [
    "# List for holding lat_lngs and cities\n",
    "lat_lngs = []\n",
    "cities = []\n",
    "\n",
    "# Create a set of random lat and lng combinations\n",
    "lats = np.random.uniform(lat_range[0], lat_range[1], size=1500)\n",
    "lngs = np.random.uniform(lng_range[0], lng_range[1], size=1500)\n",
    "lat_lngs = zip(lats, lngs)\n",
    "\n",
    "# Identify nearest city for each lat, lng combination\n",
    "for lat_lng in lat_lngs:\n",
    "    city = citipy.nearest_city(lat_lng[0], lat_lng[1]).city_name\n",
    "    \n",
    "    # If the city is unique, then add it to a our cities list\n",
    "    if city not in cities:\n",
    "        cities.append(city)\n",
    "\n",
    "# Print the city count to confirm sufficient count\n",
    "len(cities)"
   ]
  },
  {
   "cell_type": "code",
   "execution_count": 6,
   "metadata": {},
   "outputs": [
    {
     "data": {
      "text/plain": [
       "'http://api.openweathermap.org/data/2.5/weather?units=Imperial&APPID=0465f0c7d6b1a8370e0df34ffc65c5b6appid=0465f0c7d6b1a8370e0df34ffc65c5b6&q=bubaque'"
      ]
     },
     "execution_count": 6,
     "metadata": {},
     "output_type": "execute_result"
    }
   ],
   "source": [
    "url = url = \"http://api.openweathermap.org/data/2.5/weather?units=Imperial&APPID=\" + weather_api_key\n",
    "query_url = url + \"appid=\" + weather_api_key + \"&q=\" +city\n",
    "query_url\n"
   ]
  },
  {
   "cell_type": "markdown",
   "metadata": {},
   "source": [
    "### Perform API Calls\n",
    "* Perform a weather check on each city using a series of successive API calls.\n",
    "* Include a print log of each city as it'sbeing processed (with the city number and city name).\n"
   ]
  },
  {
   "cell_type": "code",
   "execution_count": 7,
   "metadata": {
    "scrolled": false
   },
   "outputs": [
    {
     "name": "stdout",
     "output_type": "stream",
     "text": [
      "Beginning Data Retrieval\n",
      "------------------------\n",
      "Processing Record 1 of set 1 | severo-kurilsk\n",
      "Processing Record 2 of set 1 | cape town\n",
      "Processing Record 3 of set 1 | kodiak\n",
      "Processing Record 4 of set 1 | luhyny\n",
      "Processing Record 5 of set 1 | grand gaube\n",
      "Processing Record 6 of set 1 | chickasha\n",
      "Processing Record 7 of set 1 | ushuaia\n",
      "Processing Record 8 of set 1 | nabire\n",
      "Processing Record 10 of set 1 | vestmannaeyjar\n",
      "Processing Record 11 of set 1 | new norfolk\n",
      "Processing Record 12 of set 1 | atbasar\n",
      "Processing Record 13 of set 1 | hobart\n",
      "Processing Record 14 of set 1 | egvekinot\n",
      "Processing Record 15 of set 1 | rikitea\n",
      "Processing Record 16 of set 1 | yellowknife\n",
      "Processing Record 17 of set 1 | carnarvon\n",
      "Processing Record 18 of set 1 | laguna\n",
      "Processing Record 19 of set 1 | samarai\n",
      "Processing Record 20 of set 1 | airai\n",
      "Processing Record 21 of set 1 | jinxiang\n",
      "Processing Record 22 of set 1 | bluff\n",
      "Processing Record 23 of set 1 | nanortalik\n",
      "Processing Record 24 of set 1 | hermanus\n",
      "Processing Record 25 of set 1 | barrow\n",
      "Processing Record 26 of set 1 | mataura\n",
      "Processing Record 27 of set 1 | inirida\n",
      "Processing Record 28 of set 1 | berlevag\n",
      "Processing Record 29 of set 1 | lompoc\n",
      "Processing Record 30 of set 1 | guerrero negro\n",
      "Processing Record 31 of set 1 | busselton\n",
      "Processing Record 32 of set 1 | bilibino\n",
      "Processing Record 33 of set 1 | avarua\n",
      "Processing Record 34 of set 1 | castro\n",
      "Processing Record 35 of set 1 | jamestown\n",
      "Processing Record 36 of set 1 | port elizabeth\n",
      "Processing Record 37 of set 1 | kibaya\n",
      "Processing Record 38 of set 1 | dharampur\n",
      "Processing Record 39 of set 1 | cap malheureux\n",
      "Processing Record 40 of set 1 | sistranda\n",
      "Processing Record 41 of set 1 | atherton\n",
      "Processing Record 42 of set 1 | tocopilla\n",
      "Processing Record 43 of set 1 | myitkyina\n",
      "Processing Record 44 of set 1 | khatanga\n",
      "Processing Record 45 of set 1 | hilo\n",
      "Processing Record 46 of set 1 | makakilo city\n",
      "Processing Record 47 of set 1 | stornoway\n",
      "Processing Record 48 of set 1 | sakaiminato\n",
      "Processing Record 50 of set 1 | te anau\n",
      "Processing Record 1 of set 2 | pisco\n",
      "Processing Record 2 of set 2 | lebu\n",
      "Processing Record 3 of set 2 | santa cruz cabralia\n",
      "Processing Record 5 of set 2 | bor\n",
      "Processing Record 6 of set 2 | east london\n",
      "Processing Record 7 of set 2 | santa cruz del norte\n",
      "Processing Record 8 of set 2 | punta arenas\n",
      "Processing Record 9 of set 2 | north bend\n",
      "Processing Record 10 of set 2 | ostrovnoy\n",
      "Processing Record 12 of set 2 | esperance\n",
      "Processing Record 13 of set 2 | puerto ayora\n",
      "Processing Record 14 of set 2 | coahuayana\n",
      "Processing Record 15 of set 2 | yaroslavl\n",
      "Processing Record 16 of set 2 | qaqortoq\n",
      "Processing Record 17 of set 2 | along\n",
      "Processing Record 18 of set 2 | saint george\n",
      "Processing Record 20 of set 2 | kaitangata\n",
      "Processing Record 22 of set 2 | sioux lookout\n",
      "Processing Record 23 of set 2 | nikolskoye\n",
      "Processing Record 24 of set 2 | sorland\n",
      "Processing Record 25 of set 2 | atuona\n",
      "Processing Record 26 of set 2 | nevelsk\n",
      "Processing Record 27 of set 2 | san patricio\n",
      "Processing Record 28 of set 2 | perelyub\n",
      "Processing Record 29 of set 2 | eureka\n",
      "Processing Record 30 of set 2 | mar del plata\n",
      "Processing Record 31 of set 2 | klaksvik\n",
      "Processing Record 32 of set 2 | chuy\n",
      "Processing Record 33 of set 2 | tiksi\n",
      "Processing Record 34 of set 2 | vila franca do campo\n",
      "Processing Record 35 of set 2 | tuktoyaktuk\n",
      "Processing Record 36 of set 2 | shipunovo\n",
      "Processing Record 37 of set 2 | tongzi\n",
      "Processing Record 38 of set 2 | hastings\n",
      "Processing Record 40 of set 2 | constantine\n",
      "Processing Record 41 of set 2 | kholtoson\n",
      "Processing Record 42 of set 2 | humaita\n",
      "Processing Record 43 of set 2 | georgetown\n",
      "Processing Record 44 of set 2 | bredasdorp\n",
      "Processing Record 45 of set 2 | ilulissat\n",
      "Processing Record 46 of set 2 | papayal\n",
      "Processing Record 47 of set 2 | dodge city\n",
      "Processing Record 48 of set 2 | tulsipur\n",
      "Processing Record 49 of set 2 | kruisfontein\n",
      "Processing Record 50 of set 2 | pahrump\n",
      "Processing Record 2 of set 3 | dulag\n",
      "Processing Record 3 of set 3 | cherskiy\n",
      "Processing Record 4 of set 3 | tasiilaq\n",
      "Processing Record 6 of set 3 | provideniya\n",
      "Processing Record 7 of set 3 | alofi\n",
      "Processing Record 8 of set 3 | vaini\n",
      "Processing Record 10 of set 3 | thompson\n",
      "Processing Record 11 of set 3 | shestakovo\n",
      "Processing Record 12 of set 3 | coihaique\n",
      "Processing Record 13 of set 3 | basoko\n",
      "Processing Record 14 of set 3 | naze\n",
      "Processing Record 15 of set 3 | siguiri\n",
      "Processing Record 16 of set 3 | tadepallegudem\n",
      "Processing Record 17 of set 3 | asau\n",
      "Processing Record 19 of set 3 | albany\n",
      "Processing Record 20 of set 3 | ancud\n",
      "Processing Record 21 of set 3 | rayevskiy\n",
      "Processing Record 22 of set 3 | cabo san lucas\n",
      "Processing Record 23 of set 3 | santa isabel\n",
      "Processing Record 24 of set 3 | mecca\n",
      "Processing Record 25 of set 3 | ahipara\n",
      "Processing Record 27 of set 3 | mahebourg\n",
      "Processing Record 28 of set 3 | nyurba\n",
      "Processing Record 30 of set 3 | bethel\n",
      "Processing Record 31 of set 3 | nome\n",
      "Processing Record 32 of set 3 | monze\n",
      "Processing Record 33 of set 3 | hithadhoo\n",
      "Processing Record 34 of set 3 | abha\n",
      "Processing Record 35 of set 3 | jizan\n",
      "Processing Record 36 of set 3 | yulara\n",
      "Processing Record 37 of set 3 | leningradskiy\n",
      "Processing Record 38 of set 3 | ardesen\n",
      "Processing Record 39 of set 3 | dikson\n",
      "Processing Record 40 of set 3 | hamilton\n",
      "Processing Record 41 of set 3 | dunedin\n",
      "Processing Record 42 of set 3 | arraial do cabo\n",
      "Processing Record 43 of set 3 | ormara\n",
      "Processing Record 44 of set 3 | calabozo\n",
      "Processing Record 45 of set 3 | henties bay\n",
      "Processing Record 46 of set 3 | ponta do sol\n",
      "Processing Record 47 of set 3 | san andres\n",
      "Processing Record 48 of set 3 | lavrentiya\n",
      "Processing Record 49 of set 3 | saint-philippe\n",
      "Processing Record 50 of set 3 | hirara\n",
      "Processing Record 1 of set 4 | malkangiri\n",
      "Processing Record 2 of set 4 | kesinga\n",
      "Processing Record 3 of set 4 | ta khmau\n",
      "Processing Record 4 of set 4 | norman\n",
      "Processing Record 5 of set 4 | lazaro cardenas\n",
      "Processing Record 6 of set 4 | olafsvik\n",
      "Processing Record 7 of set 4 | hienghene\n",
      "Processing Record 8 of set 4 | mount gambier\n",
      "Processing Record 9 of set 4 | pasighat\n",
      "Processing Record 10 of set 4 | ejura\n",
      "Processing Record 11 of set 4 | khandwa\n",
      "Processing Record 12 of set 4 | chokurdakh\n",
      "Processing Record 13 of set 4 | sur\n",
      "Processing Record 14 of set 4 | mezen\n",
      "Processing Record 15 of set 4 | chapais\n",
      "Processing Record 16 of set 4 | kendari\n",
      "Processing Record 17 of set 4 | indramayu\n",
      "Processing Record 18 of set 4 | hualmay\n",
      "Processing Record 19 of set 4 | ribeira grande\n",
      "Processing Record 20 of set 4 | cayenne\n",
      "Processing Record 21 of set 4 | aksu\n",
      "Processing Record 23 of set 4 | bengkulu\n",
      "Processing Record 24 of set 4 | longyearbyen\n",
      "Processing Record 25 of set 4 | kemijarvi\n",
      "Processing Record 26 of set 4 | mount isa\n",
      "Processing Record 27 of set 4 | butaritari\n",
      "Processing Record 28 of set 4 | oliver\n",
      "Processing Record 29 of set 4 | katsuura\n",
      "Processing Record 30 of set 4 | talnakh\n",
      "Processing Record 32 of set 4 | saskylakh\n",
      "Processing Record 33 of set 4 | port-gentil\n",
      "Processing Record 34 of set 4 | sitka\n",
      "Processing Record 35 of set 4 | charagua\n",
      "Processing Record 38 of set 4 | saint-hyacinthe\n",
      "Processing Record 39 of set 4 | maniitsoq\n",
      "Processing Record 40 of set 4 | vila velha\n",
      "Processing Record 41 of set 4 | calamar\n",
      "Processing Record 42 of set 4 | faanui\n",
      "Processing Record 43 of set 4 | mocoa\n",
      "Processing Record 44 of set 4 | namibe\n",
      "Processing Record 46 of set 4 | bara\n",
      "Processing Record 47 of set 4 | goranboy\n",
      "Processing Record 48 of set 4 | buraydah\n",
      "Processing Record 49 of set 4 | la rioja\n",
      "Processing Record 1 of set 5 | tazmalt\n",
      "Processing Record 2 of set 5 | karratha\n",
      "Processing Record 3 of set 5 | aklavik\n",
      "Processing Record 4 of set 5 | kaka\n",
      "Processing Record 5 of set 5 | beringovskiy\n",
      "Processing Record 6 of set 5 | norman wells\n",
      "Processing Record 7 of set 5 | diplo\n",
      "Processing Record 8 of set 5 | poum\n",
      "Processing Record 9 of set 5 | gushikawa\n",
      "Processing Record 10 of set 5 | yokadouma\n",
      "Processing Record 11 of set 5 | jacareacanga\n",
      "Processing Record 12 of set 5 | torbay\n",
      "Processing Record 13 of set 5 | pali\n",
      "Processing Record 14 of set 5 | hambantota\n",
      "Processing Record 15 of set 5 | port alfred\n",
      "Processing Record 16 of set 5 | willowmore\n",
      "Processing Record 17 of set 5 | zhigalovo\n"
     ]
    },
    {
     "name": "stdout",
     "output_type": "stream",
     "text": [
      "Processing Record 18 of set 5 | krosno\n",
      "Processing Record 19 of set 5 | harlingen\n",
      "Processing Record 20 of set 5 | skjervoy\n",
      "Processing Record 21 of set 5 | batsfjord\n",
      "Processing Record 22 of set 5 | port lincoln\n",
      "Processing Record 23 of set 5 | codrington\n",
      "Processing Record 24 of set 5 | port augusta\n",
      "Processing Record 25 of set 5 | kununurra\n",
      "Processing Record 26 of set 5 | klaeng\n",
      "Processing Record 27 of set 5 | pochutla\n",
      "Processing Record 29 of set 5 | ostersund\n",
      "Processing Record 30 of set 5 | upernavik\n",
      "Processing Record 31 of set 5 | lundazi\n",
      "Processing Record 32 of set 5 | zhireken\n",
      "Processing Record 33 of set 5 | darlowo\n",
      "Processing Record 34 of set 5 | nishihara\n",
      "Processing Record 35 of set 5 | salantai\n",
      "Processing Record 36 of set 5 | qaanaaq\n",
      "Processing Record 37 of set 5 | kahului\n",
      "Processing Record 38 of set 5 | kapaa\n",
      "Processing Record 39 of set 5 | adrar\n",
      "Processing Record 41 of set 5 | santa maria\n",
      "Processing Record 42 of set 5 | waipawa\n",
      "Processing Record 43 of set 5 | sicuani\n",
      "Processing Record 44 of set 5 | ketchikan\n",
      "Processing Record 45 of set 5 | shimoda\n",
      "Processing Record 46 of set 5 | bani\n",
      "Processing Record 47 of set 5 | zhigansk\n",
      "Processing Record 48 of set 5 | kaohsiung\n",
      "Processing Record 49 of set 5 | krasnovishersk\n",
      "Processing Record 50 of set 5 | birin\n",
      "Processing Record 1 of set 6 | jiujiang\n",
      "Processing Record 2 of set 6 | nadym\n",
      "Processing Record 4 of set 6 | fortuna\n",
      "Processing Record 5 of set 6 | chilca\n",
      "Processing Record 6 of set 6 | springdale\n",
      "Processing Record 8 of set 6 | tigil\n",
      "Processing Record 9 of set 6 | hotton\n",
      "Processing Record 10 of set 6 | necochea\n",
      "Processing Record 11 of set 6 | kitimat\n",
      "Processing Record 12 of set 6 | ust-tsilma\n",
      "Processing Record 13 of set 6 | aldan\n",
      "Processing Record 14 of set 6 | mehamn\n",
      "Processing Record 15 of set 6 | talcahuano\n",
      "Processing Record 17 of set 6 | bambanglipuro\n",
      "Processing Record 18 of set 6 | epe\n",
      "Processing Record 19 of set 6 | mackay\n",
      "Processing Record 20 of set 6 | monte alegre de minas\n",
      "Processing Record 21 of set 6 | hit\n",
      "Processing Record 22 of set 6 | san antonio\n",
      "Processing Record 23 of set 6 | geraldton\n",
      "Processing Record 24 of set 6 | roswell\n",
      "Processing Record 25 of set 6 | belmonte\n",
      "Processing Record 26 of set 6 | san jeronimo\n",
      "Processing Record 27 of set 6 | lake city\n",
      "Processing Record 28 of set 6 | college\n",
      "Processing Record 29 of set 6 | banda aceh\n",
      "Processing Record 30 of set 6 | bathsheba\n",
      "Processing Record 31 of set 6 | polunochnoye\n",
      "Processing Record 32 of set 6 | bezhanitsy\n",
      "Processing Record 33 of set 6 | dhidhdhoo\n",
      "Processing Record 34 of set 6 | cidreira\n",
      "Processing Record 35 of set 6 | launceston\n",
      "Processing Record 36 of set 6 | puerto del rosario\n",
      "Processing Record 37 of set 6 | ilhabela\n",
      "Processing Record 38 of set 6 | minab\n",
      "Processing Record 39 of set 6 | portland\n",
      "Processing Record 41 of set 6 | puerto leguizamo\n",
      "Processing Record 42 of set 6 | nipawin\n",
      "Processing Record 43 of set 6 | prince albert\n",
      "Processing Record 44 of set 6 | olot\n",
      "Processing Record 45 of set 6 | saldanha\n",
      "Processing Record 46 of set 6 | yeniseysk\n",
      "Processing Record 47 of set 6 | avera\n",
      "Processing Record 48 of set 6 | erenhot\n",
      "Processing Record 49 of set 6 | raudeberg\n",
      "Processing Record 50 of set 6 | sahuaripa\n",
      "Processing Record 1 of set 7 | bethanien\n",
      "Processing Record 2 of set 7 | elizabeth city\n",
      "Processing Record 3 of set 7 | tsaratanana\n",
      "Processing Record 4 of set 7 | envira\n",
      "Processing Record 5 of set 7 | boden\n",
      "Processing Record 6 of set 7 | malakal\n",
      "Processing Record 7 of set 7 | baghmara\n",
      "Processing Record 8 of set 7 | san cristobal\n",
      "Processing Record 9 of set 7 | nokaneng\n",
      "Processing Record 10 of set 7 | billings\n",
      "Processing Record 11 of set 7 | vao\n",
      "Processing Record 12 of set 7 | namatanai\n",
      "Processing Record 13 of set 7 | tuatapere\n",
      "Processing Record 14 of set 7 | port blair\n",
      "Processing Record 15 of set 7 | goderich\n",
      "Processing Record 16 of set 7 | glencoe\n",
      "Processing Record 17 of set 7 | pevek\n",
      "Processing Record 18 of set 7 | bolgatanga\n",
      "Processing Record 19 of set 7 | tazovskiy\n",
      "Processing Record 20 of set 7 | tessalit\n",
      "Processing Record 21 of set 7 | dutse\n",
      "Processing Record 22 of set 7 | kloulklubed\n",
      "Processing Record 23 of set 7 | caconda\n",
      "Processing Record 24 of set 7 | veroia\n",
      "Processing Record 25 of set 7 | luderitz\n",
      "Processing Record 26 of set 7 | walvis bay\n",
      "Processing Record 27 of set 7 | luzern\n",
      "Processing Record 28 of set 7 | kavieng\n",
      "Processing Record 29 of set 7 | monterey\n",
      "Processing Record 30 of set 7 | bambous virieux\n",
      "Processing Record 31 of set 7 | kislyakovskaya\n",
      "Processing Record 32 of set 7 | broken hill\n",
      "Processing Record 33 of set 7 | capitan bado\n",
      "Processing Record 34 of set 7 | polyarnyy\n",
      "Processing Record 35 of set 7 | korla\n",
      "Processing Record 36 of set 7 | vanavara\n",
      "Processing Record 37 of set 7 | trairi\n",
      "Processing Record 38 of set 7 | arlit\n",
      "Processing Record 39 of set 7 | aswan\n",
      "Processing Record 40 of set 7 | minsk\n",
      "Processing Record 41 of set 7 | narsaq\n",
      "Processing Record 42 of set 7 | linxia\n",
      "Processing Record 43 of set 7 | oxford\n",
      "Processing Record 44 of set 7 | honningsvag\n",
      "Processing Record 45 of set 7 | constitucion\n",
      "Processing Record 46 of set 7 | clyde river\n",
      "Processing Record 47 of set 7 | hoshcha\n",
      "Processing Record 49 of set 7 | tilichiki\n",
      "Processing Record 50 of set 7 | oistins\n",
      "Processing Record 2 of set 8 | panama city\n",
      "Processing Record 3 of set 8 | rawlins\n",
      "Processing Record 4 of set 8 | san ramon\n",
      "Processing Record 5 of set 8 | hofn\n",
      "Processing Record 6 of set 8 | dudinka\n",
      "Processing Record 7 of set 8 | flinders\n",
      "Processing Record 8 of set 8 | tanout\n",
      "Processing Record 9 of set 8 | cumana\n",
      "Processing Record 10 of set 8 | ginda\n",
      "Processing Record 11 of set 8 | pontian kecil\n",
      "Processing Record 12 of set 8 | sabang\n",
      "Processing Record 13 of set 8 | lorengau\n",
      "Processing Record 14 of set 8 | los llanos de aridane\n",
      "Processing Record 15 of set 8 | vardo\n",
      "Processing Record 16 of set 8 | abashiri\n",
      "Processing Record 17 of set 8 | gimli\n",
      "Processing Record 18 of set 8 | beyneu\n",
      "Processing Record 19 of set 8 | hun\n",
      "Processing Record 20 of set 8 | ahuimanu\n",
      "Processing Record 21 of set 8 | tinos\n",
      "Processing Record 22 of set 8 | urucui\n",
      "Processing Record 23 of set 8 | flin flon\n",
      "Processing Record 24 of set 8 | flagstaff\n",
      "Processing Record 25 of set 8 | bac lieu\n",
      "Processing Record 26 of set 8 | vanimo\n",
      "Processing Record 27 of set 8 | harper\n",
      "Processing Record 28 of set 8 | yima\n",
      "Processing Record 30 of set 8 | nouakchott\n",
      "Processing Record 31 of set 8 | lovozero\n",
      "Processing Record 32 of set 8 | faya\n",
      "Processing Record 33 of set 8 | ensley\n",
      "Processing Record 35 of set 8 | erzin\n",
      "Processing Record 38 of set 8 | cockburn town\n",
      "Processing Record 39 of set 8 | shalinskoye\n",
      "Processing Record 41 of set 8 | komsomolskiy\n",
      "Processing Record 42 of set 8 | fengrun\n",
      "Processing Record 43 of set 8 | sao joao da barra\n",
      "Processing Record 44 of set 8 | iqaluit\n",
      "Processing Record 45 of set 8 | tomatlan\n",
      "Processing Record 46 of set 8 | bandarbeyla\n",
      "Processing Record 47 of set 8 | xunchang\n",
      "Processing Record 48 of set 8 | san juan\n",
      "Processing Record 49 of set 8 | doha\n",
      "Processing Record 50 of set 8 | mattru\n",
      "Processing Record 1 of set 9 | padang\n",
      "Processing Record 2 of set 9 | hay river\n",
      "Processing Record 3 of set 9 | bismarck\n",
      "Processing Record 4 of set 9 | omsukchan\n",
      "Processing Record 5 of set 9 | tiarei\n",
      "Processing Record 6 of set 9 | carutapera\n",
      "Processing Record 7 of set 9 | partenit\n",
      "Processing Record 8 of set 9 | hamadan\n",
      "Processing Record 9 of set 9 | lata\n",
      "Processing Record 10 of set 9 | puro\n",
      "Processing Record 11 of set 9 | wanning\n",
      "Processing Record 12 of set 9 | roald\n",
      "Processing Record 13 of set 9 | victoria\n",
      "Processing Record 14 of set 9 | marzuq\n",
      "Processing Record 15 of set 9 | zeya\n",
      "Processing Record 16 of set 9 | westport\n",
      "Processing Record 17 of set 9 | udachnyy\n",
      "Processing Record 18 of set 9 | cabedelo\n",
      "Processing Record 19 of set 9 | aracuai\n",
      "Processing Record 20 of set 9 | souillac\n",
      "Processing Record 21 of set 9 | ust-nera\n",
      "Processing Record 22 of set 9 | el alto\n",
      "Processing Record 23 of set 9 | kassala\n",
      "Processing Record 24 of set 9 | kieta\n",
      "Processing Record 26 of set 9 | shelby\n",
      "Processing Record 27 of set 9 | saint-augustin\n",
      "Processing Record 28 of set 9 | haines junction\n",
      "Processing Record 30 of set 9 | yerofey pavlovich\n",
      "Processing Record 31 of set 9 | camapua\n",
      "Processing Record 32 of set 9 | juneau\n"
     ]
    },
    {
     "name": "stdout",
     "output_type": "stream",
     "text": [
      "Processing Record 33 of set 9 | kudahuvadhoo\n",
      "Processing Record 34 of set 9 | nampula\n",
      "Processing Record 35 of set 9 | novoorsk\n",
      "Processing Record 36 of set 9 | san luis rio colorado\n",
      "Processing Record 37 of set 9 | baykit\n",
      "Processing Record 38 of set 9 | mercedes\n",
      "Processing Record 39 of set 9 | ikom\n",
      "Processing Record 40 of set 9 | champerico\n",
      "Processing Record 41 of set 9 | nouadhibou\n",
      "Processing Record 42 of set 9 | naberera\n",
      "Processing Record 43 of set 9 | amalapuram\n",
      "Processing Record 44 of set 9 | xuddur\n",
      "Processing Record 46 of set 9 | yangambi\n",
      "Processing Record 47 of set 9 | borovoy\n",
      "Processing Record 49 of set 9 | brainerd\n",
      "Processing Record 1 of set 10 | liverpool\n",
      "Processing Record 2 of set 10 | akhtanizovskaya\n",
      "Processing Record 3 of set 10 | christchurch\n",
      "Processing Record 4 of set 10 | bandar-e anzali\n",
      "Processing Record 7 of set 10 | plomarion\n",
      "Processing Record 8 of set 10 | ambilobe\n",
      "Processing Record 9 of set 10 | isangel\n",
      "Processing Record 10 of set 10 | mut\n",
      "Processing Record 11 of set 10 | ravar\n",
      "Processing Record 12 of set 10 | roros\n",
      "Processing Record 13 of set 10 | ayan\n",
      "Processing Record 14 of set 10 | chake chake\n",
      "Processing Record 15 of set 10 | belyy yar\n",
      "Processing Record 16 of set 10 | leshukonskoye\n",
      "Processing Record 17 of set 10 | baoshan\n",
      "Processing Record 19 of set 10 | alyangula\n",
      "Processing Record 20 of set 10 | najran\n",
      "Processing Record 21 of set 10 | kinsale\n",
      "Processing Record 22 of set 10 | victor harbor\n",
      "Processing Record 23 of set 10 | chamba\n",
      "Processing Record 24 of set 10 | rundu\n",
      "Processing Record 25 of set 10 | karad\n",
      "Processing Record 26 of set 10 | general roca\n",
      "Processing Record 27 of set 10 | teodoro sampaio\n",
      "Processing Record 28 of set 10 | la ronge\n",
      "Processing Record 29 of set 10 | kostyantynivka\n",
      "Processing Record 31 of set 10 | aripuana\n",
      "Processing Record 32 of set 10 | sao miguel dos campos\n",
      "Processing Record 33 of set 10 | peno\n",
      "Processing Record 34 of set 10 | pacific grove\n",
      "Processing Record 35 of set 10 | ust-kut\n",
      "Processing Record 36 of set 10 | kharitonovo\n",
      "Processing Record 37 of set 10 | salaverry\n",
      "Processing Record 38 of set 10 | sinop\n",
      "Processing Record 39 of set 10 | hami\n",
      "Processing Record 40 of set 10 | bonavista\n",
      "Processing Record 41 of set 10 | termoli\n",
      "Processing Record 42 of set 10 | beira\n",
      "Processing Record 43 of set 10 | aksha\n",
      "Processing Record 44 of set 10 | santa helena de goias\n",
      "Processing Record 45 of set 10 | qasigiannguit\n",
      "Processing Record 46 of set 10 | lagoa\n",
      "Processing Record 47 of set 10 | san borja\n",
      "Processing Record 48 of set 10 | port hardy\n",
      "Processing Record 49 of set 10 | santa fe\n",
      "Processing Record 50 of set 10 | auki\n",
      "Processing Record 2 of set 11 | bitam\n",
      "Processing Record 3 of set 11 | andenes\n",
      "Processing Record 4 of set 11 | brownsville\n",
      "Processing Record 5 of set 11 | palmer\n",
      "Processing Record 6 of set 11 | gambela\n",
      "Processing Record 8 of set 11 | dhangadhi\n",
      "Processing Record 9 of set 11 | fayaoue\n",
      "Processing Record 10 of set 11 | zabid\n",
      "Processing Record 11 of set 11 | balkanabat\n",
      "Processing Record 12 of set 11 | paamiut\n",
      "Processing Record 14 of set 11 | yerbogachen\n",
      "Processing Record 15 of set 11 | trzebnica\n",
      "Processing Record 16 of set 11 | puerto baquerizo moreno\n",
      "Processing Record 18 of set 11 | rajula\n",
      "Processing Record 19 of set 11 | det udom\n",
      "Processing Record 20 of set 11 | koumac\n",
      "Processing Record 21 of set 11 | kamenka\n",
      "Processing Record 22 of set 11 | kosh-agach\n",
      "Processing Record 24 of set 11 | sibiti\n",
      "Processing Record 25 of set 11 | deputatskiy\n",
      "Processing Record 26 of set 11 | zima\n",
      "Processing Record 28 of set 11 | celestun\n",
      "Processing Record 29 of set 11 | ust-maya\n",
      "Processing Record 30 of set 11 | jinchang\n",
      "Processing Record 31 of set 11 | shu\n",
      "Processing Record 32 of set 11 | bar harbor\n",
      "Processing Record 34 of set 11 | saint-francois\n",
      "Processing Record 35 of set 11 | fengzhen\n",
      "Processing Record 36 of set 11 | acapulco\n",
      "Processing Record 37 of set 11 | vostok\n",
      "Processing Record 38 of set 11 | asyut\n",
      "Processing Record 39 of set 11 | richards bay\n",
      "Processing Record 40 of set 11 | moron\n",
      "Processing Record 41 of set 11 | roma\n",
      "Processing Record 42 of set 11 | ulaanbaatar\n",
      "Processing Record 43 of set 11 | maceio\n",
      "Processing Record 44 of set 11 | kuytun\n",
      "Processing Record 45 of set 11 | marsa matruh\n",
      "Processing Record 46 of set 11 | worland\n",
      "Processing Record 47 of set 11 | norilsk\n",
      "Processing Record 48 of set 11 | griffith\n",
      "Processing Record 49 of set 11 | lampang\n",
      "Processing Record 50 of set 11 | tema\n",
      "Processing Record 1 of set 12 | cedar city\n",
      "Processing Record 2 of set 12 | pauini\n",
      "Processing Record 3 of set 12 | tammisaari\n",
      "Processing Record 4 of set 12 | riyadh\n",
      "Processing Record 5 of set 12 | yeppoon\n",
      "Processing Record 6 of set 12 | arenapolis\n",
      "Processing Record 7 of set 12 | rio grande\n",
      "Processing Record 8 of set 12 | vanderhoof\n",
      "Processing Record 9 of set 12 | karpathos\n",
      "Processing Record 10 of set 12 | caala\n",
      "Processing Record 11 of set 12 | chaah\n",
      "Processing Record 12 of set 12 | sinnamary\n",
      "Processing Record 13 of set 12 | hailey\n",
      "Processing Record 14 of set 12 | niquero\n",
      "Processing Record 15 of set 12 | scottsboro\n",
      "Processing Record 16 of set 12 | pasni\n",
      "Processing Record 17 of set 12 | sainte-anne-des-monts\n",
      "Processing Record 18 of set 12 | manggar\n",
      "Processing Record 19 of set 12 | sola\n",
      "Processing Record 20 of set 12 | homnabad\n",
      "Processing Record 21 of set 12 | hasaki\n",
      "Processing Record 22 of set 12 | sao felix do xingu\n",
      "Processing Record 23 of set 12 | parabel\n",
      "Processing Record 25 of set 12 | limoges\n",
      "Processing Record 26 of set 12 | bhainsdehi\n",
      "Processing Record 27 of set 12 | atasu\n",
      "Processing Record 28 of set 12 | lasem\n",
      "Processing Record 29 of set 12 | port hedland\n",
      "Processing Record 30 of set 12 | nador\n",
      "Processing Record 31 of set 12 | meadow lake\n",
      "Processing Record 32 of set 12 | itarema\n",
      "Processing Record 33 of set 12 | venado tuerto\n",
      "Processing Record 34 of set 12 | dalvik\n",
      "Processing Record 35 of set 12 | prince rupert\n",
      "Processing Record 36 of set 12 | saint-michel-des-saints\n",
      "Processing Record 37 of set 12 | beloha\n",
      "Processing Record 39 of set 12 | payo\n",
      "Processing Record 40 of set 12 | dawei\n",
      "Processing Record 41 of set 12 | san policarpo\n",
      "Processing Record 42 of set 12 | havoysund\n",
      "Processing Record 43 of set 12 | santiago del estero\n",
      "Processing Record 44 of set 12 | chulym\n",
      "Processing Record 45 of set 12 | butterworth\n",
      "Processing Record 46 of set 12 | kalengwa\n",
      "Processing Record 47 of set 12 | rypefjord\n",
      "Processing Record 48 of set 12 | krasnoselkup\n",
      "Processing Record 49 of set 12 | lillooet\n",
      "Processing Record 50 of set 12 | jiangyou\n",
      "Processing Record 1 of set 13 | zhoucheng\n",
      "Processing Record 3 of set 13 | mogadishu\n",
      "Processing Record 5 of set 13 | lima\n",
      "Processing Record 6 of set 13 | morant bay\n",
      "Processing Record 7 of set 13 | sao filipe\n",
      "Processing Record 8 of set 13 | grand-santi\n",
      "Processing Record 9 of set 13 | meulaboh\n",
      "Processing Record 10 of set 13 | uchiza\n",
      "Processing Record 11 of set 13 | bubaque\n"
     ]
    }
   ],
   "source": [
    "temp_max = []\n",
    "lat = []\n",
    "long = []\n",
    "city_name = []\n",
    "humidity = []\n",
    "clouds = []\n",
    "wind = []\n",
    "country_name = []\n",
    "date_name = []\n",
    "print(\"Beginning Data Retrieval\")\n",
    "print(\"------------------------\")\n",
    "\n",
    "\n",
    "for index, city in enumerate(cities):\n",
    "    \n",
    "    try:\n",
    "        city_data = (requests.get(url + '&q=' + city)).json()\n",
    "        city_name.append(city_data['name'])\n",
    "        lat.append(city_data['coord']['lat'])\n",
    "        long.append(city_data['coord']['lon'])\n",
    "        temp_max.append(city_data['main']['temp_max'])\n",
    "        humidity.append(city_data['main']['humidity'])\n",
    "        clouds.append(city_data['clouds']['all'])\n",
    "        wind.append(city_data['wind']['speed'])\n",
    "        country_name.append(city_data['sys']['country'])\n",
    "        date_name.append(city_data['dt'])\n",
    "    \n",
    "        record_no = index % 50 + 1\n",
    "        set_no = index // 50 + 1\n",
    "        print(f\"Processing Record {record_no} of set {set_no} | {city}\")\n",
    "    \n",
    "    except KeyError:\n",
    "    \n",
    "        if city not in cities:\n",
    "          print(\"City not found. Skipping........\")\n",
    "          \n",
    "          \n",
    "          \n",
    "          \n"
   ]
  },
  {
   "cell_type": "code",
   "execution_count": 8,
   "metadata": {},
   "outputs": [
    {
     "data": {
      "text/plain": [
       "{'coord': {'lon': -15.8333, 'lat': 11.2833},\n",
       " 'weather': [{'id': 803,\n",
       "   'main': 'Clouds',\n",
       "   'description': 'broken clouds',\n",
       "   'icon': '04n'}],\n",
       " 'base': 'stations',\n",
       " 'main': {'temp': 76.37,\n",
       "  'feels_like': 73.6,\n",
       "  'temp_min': 76.37,\n",
       "  'temp_max': 76.37,\n",
       "  'pressure': 1010,\n",
       "  'humidity': 65,\n",
       "  'sea_level': 1010,\n",
       "  'grnd_level': 1007},\n",
       " 'visibility': 10000,\n",
       " 'wind': {'speed': 13.33, 'deg': 314},\n",
       " 'clouds': {'all': 57},\n",
       " 'dt': 1613020618,\n",
       " 'sys': {'country': 'GW', 'sunrise': 1613028331, 'sunset': 1613070588},\n",
       " 'timezone': 0,\n",
       " 'id': 2374583,\n",
       " 'name': 'Bubaque',\n",
       " 'cod': 200}"
      ]
     },
     "execution_count": 8,
     "metadata": {},
     "output_type": "execute_result"
    }
   ],
   "source": [
    "city_data"
   ]
  },
  {
   "cell_type": "markdown",
   "metadata": {},
   "source": [
    "### Convert Raw Data to DataFrame\n",
    "* Export the city data into a .csv.\n",
    "* Display the DataFrame"
   ]
  },
  {
   "cell_type": "code",
   "execution_count": 9,
   "metadata": {
    "scrolled": true
   },
   "outputs": [
    {
     "data": {
      "text/html": [
       "<div>\n",
       "<style scoped>\n",
       "    .dataframe tbody tr th:only-of-type {\n",
       "        vertical-align: middle;\n",
       "    }\n",
       "\n",
       "    .dataframe tbody tr th {\n",
       "        vertical-align: top;\n",
       "    }\n",
       "\n",
       "    .dataframe thead th {\n",
       "        text-align: right;\n",
       "    }\n",
       "</style>\n",
       "<table border=\"1\" class=\"dataframe\">\n",
       "  <thead>\n",
       "    <tr style=\"text-align: right;\">\n",
       "      <th></th>\n",
       "      <th>Unnamed: 0</th>\n",
       "      <th>City</th>\n",
       "      <th>Latitude</th>\n",
       "      <th>Longitude</th>\n",
       "      <th>Max Temperature</th>\n",
       "      <th>Humidity</th>\n",
       "      <th>Cloudiness</th>\n",
       "      <th>Wind Speed</th>\n",
       "      <th>Country</th>\n",
       "      <th>Date</th>\n",
       "    </tr>\n",
       "  </thead>\n",
       "  <tbody>\n",
       "    <tr>\n",
       "      <th>0</th>\n",
       "      <td>0</td>\n",
       "      <td>Severo-Kuril'sk</td>\n",
       "      <td>50.6789</td>\n",
       "      <td>156.1250</td>\n",
       "      <td>27.25</td>\n",
       "      <td>97</td>\n",
       "      <td>100</td>\n",
       "      <td>23.33</td>\n",
       "      <td>RU</td>\n",
       "      <td>1613020362</td>\n",
       "    </tr>\n",
       "    <tr>\n",
       "      <th>1</th>\n",
       "      <td>1</td>\n",
       "      <td>Cape Town</td>\n",
       "      <td>-33.9258</td>\n",
       "      <td>18.4232</td>\n",
       "      <td>68.00</td>\n",
       "      <td>88</td>\n",
       "      <td>0</td>\n",
       "      <td>11.50</td>\n",
       "      <td>ZA</td>\n",
       "      <td>1613020452</td>\n",
       "    </tr>\n",
       "    <tr>\n",
       "      <th>2</th>\n",
       "      <td>2</td>\n",
       "      <td>Saint Paul Harbor</td>\n",
       "      <td>57.7900</td>\n",
       "      <td>-152.4072</td>\n",
       "      <td>37.40</td>\n",
       "      <td>70</td>\n",
       "      <td>90</td>\n",
       "      <td>39.12</td>\n",
       "      <td>US</td>\n",
       "      <td>1613020193</td>\n",
       "    </tr>\n",
       "    <tr>\n",
       "      <th>3</th>\n",
       "      <td>3</td>\n",
       "      <td>Luhyny</td>\n",
       "      <td>51.0820</td>\n",
       "      <td>28.4006</td>\n",
       "      <td>14.23</td>\n",
       "      <td>96</td>\n",
       "      <td>98</td>\n",
       "      <td>8.28</td>\n",
       "      <td>UA</td>\n",
       "      <td>1613020457</td>\n",
       "    </tr>\n",
       "    <tr>\n",
       "      <th>4</th>\n",
       "      <td>4</td>\n",
       "      <td>Grand Gaube</td>\n",
       "      <td>-20.0064</td>\n",
       "      <td>57.6608</td>\n",
       "      <td>84.00</td>\n",
       "      <td>65</td>\n",
       "      <td>50</td>\n",
       "      <td>8.01</td>\n",
       "      <td>MU</td>\n",
       "      <td>1613020457</td>\n",
       "    </tr>\n",
       "    <tr>\n",
       "      <th>...</th>\n",
       "      <td>...</td>\n",
       "      <td>...</td>\n",
       "      <td>...</td>\n",
       "      <td>...</td>\n",
       "      <td>...</td>\n",
       "      <td>...</td>\n",
       "      <td>...</td>\n",
       "      <td>...</td>\n",
       "      <td>...</td>\n",
       "      <td>...</td>\n",
       "    </tr>\n",
       "    <tr>\n",
       "      <th>554</th>\n",
       "      <td>554</td>\n",
       "      <td>São Filipe</td>\n",
       "      <td>14.8961</td>\n",
       "      <td>-24.4956</td>\n",
       "      <td>70.72</td>\n",
       "      <td>73</td>\n",
       "      <td>32</td>\n",
       "      <td>10.94</td>\n",
       "      <td>CV</td>\n",
       "      <td>1613020399</td>\n",
       "    </tr>\n",
       "    <tr>\n",
       "      <th>555</th>\n",
       "      <td>555</td>\n",
       "      <td>Grand-Santi</td>\n",
       "      <td>4.2500</td>\n",
       "      <td>-54.3833</td>\n",
       "      <td>71.08</td>\n",
       "      <td>93</td>\n",
       "      <td>92</td>\n",
       "      <td>2.17</td>\n",
       "      <td>GF</td>\n",
       "      <td>1613020617</td>\n",
       "    </tr>\n",
       "    <tr>\n",
       "      <th>556</th>\n",
       "      <td>556</td>\n",
       "      <td>Meulaboh</td>\n",
       "      <td>4.1363</td>\n",
       "      <td>96.1285</td>\n",
       "      <td>86.72</td>\n",
       "      <td>64</td>\n",
       "      <td>91</td>\n",
       "      <td>2.75</td>\n",
       "      <td>ID</td>\n",
       "      <td>1613020617</td>\n",
       "    </tr>\n",
       "    <tr>\n",
       "      <th>557</th>\n",
       "      <td>557</td>\n",
       "      <td>Uchiza</td>\n",
       "      <td>-8.4592</td>\n",
       "      <td>-76.4633</td>\n",
       "      <td>71.73</td>\n",
       "      <td>84</td>\n",
       "      <td>100</td>\n",
       "      <td>1.52</td>\n",
       "      <td>PE</td>\n",
       "      <td>1613020617</td>\n",
       "    </tr>\n",
       "    <tr>\n",
       "      <th>558</th>\n",
       "      <td>558</td>\n",
       "      <td>Bubaque</td>\n",
       "      <td>11.2833</td>\n",
       "      <td>-15.8333</td>\n",
       "      <td>76.37</td>\n",
       "      <td>65</td>\n",
       "      <td>57</td>\n",
       "      <td>13.33</td>\n",
       "      <td>GW</td>\n",
       "      <td>1613020618</td>\n",
       "    </tr>\n",
       "  </tbody>\n",
       "</table>\n",
       "<p>559 rows × 10 columns</p>\n",
       "</div>"
      ],
      "text/plain": [
       "     Unnamed: 0               City  Latitude  Longitude  Max Temperature  \\\n",
       "0             0    Severo-Kuril'sk   50.6789   156.1250            27.25   \n",
       "1             1          Cape Town  -33.9258    18.4232            68.00   \n",
       "2             2  Saint Paul Harbor   57.7900  -152.4072            37.40   \n",
       "3             3             Luhyny   51.0820    28.4006            14.23   \n",
       "4             4        Grand Gaube  -20.0064    57.6608            84.00   \n",
       "..          ...                ...       ...        ...              ...   \n",
       "554         554         São Filipe   14.8961   -24.4956            70.72   \n",
       "555         555        Grand-Santi    4.2500   -54.3833            71.08   \n",
       "556         556           Meulaboh    4.1363    96.1285            86.72   \n",
       "557         557             Uchiza   -8.4592   -76.4633            71.73   \n",
       "558         558            Bubaque   11.2833   -15.8333            76.37   \n",
       "\n",
       "     Humidity  Cloudiness  Wind Speed Country        Date  \n",
       "0          97         100       23.33      RU  1613020362  \n",
       "1          88           0       11.50      ZA  1613020452  \n",
       "2          70          90       39.12      US  1613020193  \n",
       "3          96          98        8.28      UA  1613020457  \n",
       "4          65          50        8.01      MU  1613020457  \n",
       "..        ...         ...         ...     ...         ...  \n",
       "554        73          32       10.94      CV  1613020399  \n",
       "555        93          92        2.17      GF  1613020617  \n",
       "556        64          91        2.75      ID  1613020617  \n",
       "557        84         100        1.52      PE  1613020617  \n",
       "558        65          57       13.33      GW  1613020618  \n",
       "\n",
       "[559 rows x 10 columns]"
      ]
     },
     "execution_count": 9,
     "metadata": {},
     "output_type": "execute_result"
    }
   ],
   "source": [
    "#Create a dataframe with required items\n",
    "city_df = pd.DataFrame({\"City\": city_name,\n",
    "                            \"Latitude\": lat,\n",
    "                            \"Longitude\": long,\n",
    "                            \"Max Temperature\": temp_max,\n",
    "                            \"Humidity\": humidity,\n",
    "                            \"Cloudiness\": clouds,\n",
    "                            \"Wind Speed\": wind,\n",
    "                            \"Country\": country_name, \n",
    "                            \"Date\": date_name})\n",
    "\n",
    "\n",
    "# Save city_df as csv\n",
    "city_df.to_csv(r'/Users\\Armand The Great\\Documents\\python-api-challenge\\WeatherPy\\cityinfo.csv')\n",
    "df = pd.read_csv('cityinfo.csv')\n",
    "df"
   ]
  },
  {
   "cell_type": "markdown",
   "metadata": {},
   "source": [
    "## Inspect the data and remove the cities where the humidity > 100%.\n",
    "----\n",
    "Skip this step if there are no cities that have humidity > 100%. "
   ]
  },
  {
   "cell_type": "code",
   "execution_count": null,
   "metadata": {},
   "outputs": [],
   "source": []
  },
  {
   "cell_type": "code",
   "execution_count": 10,
   "metadata": {},
   "outputs": [
    {
     "name": "stdout",
     "output_type": "stream",
     "text": [
      "[]\n"
     ]
    }
   ],
   "source": [
    "#  Get the indices of cities that have humidity over 100%.\n",
    "\n",
    "\n",
    "Index_label = city_df[city_df['Humidity']>100].index.tolist()\n",
    "print(Index_label)\n"
   ]
  },
  {
   "cell_type": "code",
   "execution_count": 11,
   "metadata": {},
   "outputs": [],
   "source": [
    "# Make a new DataFrame equal to the city data to drop all humidity outliers by index.\n",
    "# Passing \"inplace=False\" will make a copy of the city_data DataFrame, which we call \"clean_city_data\".\n"
   ]
  },
  {
   "cell_type": "code",
   "execution_count": null,
   "metadata": {},
   "outputs": [],
   "source": [
    "\n"
   ]
  },
  {
   "cell_type": "markdown",
   "metadata": {},
   "source": [
    "## Plotting the Data\n",
    "* Use proper labeling of the plots using plot titles (including date of analysis) and axes labels.\n",
    "* Save the plotted figures as .pngs."
   ]
  },
  {
   "cell_type": "markdown",
   "metadata": {},
   "source": [
    "## Latitude vs. Temperature Plot"
   ]
  },
  {
   "cell_type": "code",
   "execution_count": 12,
   "metadata": {
    "scrolled": true
   },
   "outputs": [
    {
     "data": {
      "text/plain": [
       "<Figure size 648x432 with 0 Axes>"
      ]
     },
     "metadata": {},
     "output_type": "display_data"
    },
    {
     "data": {
      "image/png": "[encoded data removed]",
      "text/plain": [
       "<Figure size 576x576 with 1 Axes>"
      ]
     },
     "metadata": {
      "needs_background": "light"
     },
     "output_type": "display_data"
    }
   ],
   "source": [
    "\n",
    "\n",
    "# Increase the size of the figure\n",
    "plt.figure(figsize=(9,6))\n",
    "\n",
    "# Plot the lat vs the max temp\n",
    "df.plot(kind=\"scatter\", x=\"Latitude\", y=\"Max Temperature\", grid=True, figsize=(8,8),\n",
    "              title=\"Latitude vs. Temperature\")\n",
    "\n",
    "#Axis Labeling\n",
    "plt.xlabel(\"Latitude\")\n",
    "plt.ylabel(\"Max Temperature (F)\")\n",
    "\n",
    "\n",
    "plt.show()\n"
   ]
  },
  {
   "cell_type": "markdown",
   "metadata": {},
   "source": [
    "## Latitude vs. Humidity Plot"
   ]
  },
  {
   "cell_type": "code",
   "execution_count": 13,
   "metadata": {},
   "outputs": [
    {
     "data": {
      "text/plain": [
       "<Figure size 648x432 with 0 Axes>"
      ]
     },
     "metadata": {},
     "output_type": "display_data"
    },
    {
     "data": {
      "image/png": "[encoded data removed]",
      "text/plain": [
       "<Figure size 576x576 with 1 Axes>"
      ]
     },
     "metadata": {
      "needs_background": "light"
     },
     "output_type": "display_data"
    }
   ],
   "source": [
    "\n",
    "\n",
    "# Increase the size of the figure\n",
    "plt.figure(figsize=(9,6))\n",
    "\n",
    "# Plot the lat vs the humidity\n",
    "df.plot(kind=\"scatter\", x=\"Latitude\", y=\"Humidity\", grid=True, figsize=(8,8),\n",
    "              title=\"Latitude vs. Humidity\")\n",
    "\n",
    "#Axis Labeling\n",
    "plt.xlabel(\"Latitude\")\n",
    "plt.ylabel(\"Humidity\")\n",
    "\n",
    "\n",
    "plt.show()"
   ]
  },
  {
   "cell_type": "markdown",
   "metadata": {},
   "source": [
    "## Latitude vs. Cloudiness Plot"
   ]
  },
  {
   "cell_type": "code",
   "execution_count": 14,
   "metadata": {},
   "outputs": [
    {
     "data": {
      "text/plain": [
       "<Figure size 648x432 with 0 Axes>"
      ]
     },
     "metadata": {},
     "output_type": "display_data"
    },
    {
     "data": {
      "image/png": "[encoded data removed]",
      "text/plain": [
       "<Figure size 576x576 with 1 Axes>"
      ]
     },
     "metadata": {
      "needs_background": "light"
     },
     "output_type": "display_data"
    }
   ],
   "source": [
    "\n",
    "\n",
    "# Increase the size of the figure\n",
    "plt.figure(figsize=(9,6))\n",
    "\n",
    "# Plot the lat vs the max temp\n",
    "df.plot(kind=\"scatter\", x=\"Latitude\", y=\"Cloudiness\", grid=True, figsize=(8,8),\n",
    "              title=\"Latitude vs. Cloudiness\")\n",
    "\n",
    "#Axis Labeling\n",
    "plt.xlabel(\"Latitude\")\n",
    "plt.ylabel(\"Cloudiness\")\n",
    "\n",
    "\n",
    "plt.show()"
   ]
  },
  {
   "cell_type": "markdown",
   "metadata": {},
   "source": [
    "## Latitude vs. Wind Speed Plot"
   ]
  },
  {
   "cell_type": "code",
   "execution_count": 15,
   "metadata": {},
   "outputs": [
    {
     "data": {
      "text/plain": [
       "<Figure size 648x432 with 0 Axes>"
      ]
     },
     "metadata": {},
     "output_type": "display_data"
    },
    {
     "data": {
      "image/png": "[encoded data removed]",
      "text/plain": [
       "<Figure size 576x576 with 1 Axes>"
      ]
     },
     "metadata": {
      "needs_background": "light"
     },
     "output_type": "display_data"
    }
   ],
   "source": [
    "\n",
    "\n",
    "# Increase the size of the figure\n",
    "plt.figure(figsize=(9,6))\n",
    "\n",
    "# Plot the lat vs the max temp\n",
    "df.plot(kind=\"scatter\", x=\"Latitude\", y=\"Wind Speed\", grid=True, figsize=(8,8),\n",
    "              title=\"Latitude vs. Wind Speed\")\n",
    "\n",
    "#Axis Labeling\n",
    "plt.xlabel(\"Latitude\")\n",
    "plt.ylabel(\"Wind Speed\")\n",
    "\n",
    "\n",
    "plt.show()"
   ]
  },
  {
   "cell_type": "markdown",
   "metadata": {},
   "source": [
    "## Linear Regression"
   ]
  },
  {
   "cell_type": "code",
   "execution_count": 16,
   "metadata": {},
   "outputs": [
    {
     "data": {
      "text/html": [
       "<div>\n",
       "<style scoped>\n",
       "    .dataframe tbody tr th:only-of-type {\n",
       "        vertical-align: middle;\n",
       "    }\n",
       "\n",
       "    .dataframe tbody tr th {\n",
       "        vertical-align: top;\n",
       "    }\n",
       "\n",
       "    .dataframe thead th {\n",
       "        text-align: right;\n",
       "    }\n",
       "</style>\n",
       "<table border=\"1\" class=\"dataframe\">\n",
       "  <thead>\n",
       "    <tr style=\"text-align: right;\">\n",
       "      <th></th>\n",
       "      <th>Unnamed: 0</th>\n",
       "      <th>City</th>\n",
       "      <th>Latitude</th>\n",
       "      <th>Longitude</th>\n",
       "      <th>Max Temperature</th>\n",
       "      <th>Humidity</th>\n",
       "      <th>Cloudiness</th>\n",
       "      <th>Wind Speed</th>\n",
       "      <th>Country</th>\n",
       "      <th>Date</th>\n",
       "    </tr>\n",
       "  </thead>\n",
       "  <tbody>\n",
       "    <tr>\n",
       "      <th>0</th>\n",
       "      <td>0</td>\n",
       "      <td>Severo-Kuril'sk</td>\n",
       "      <td>50.6789</td>\n",
       "      <td>156.1250</td>\n",
       "      <td>27.25</td>\n",
       "      <td>97</td>\n",
       "      <td>100</td>\n",
       "      <td>23.33</td>\n",
       "      <td>RU</td>\n",
       "      <td>1613020362</td>\n",
       "    </tr>\n",
       "    <tr>\n",
       "      <th>1</th>\n",
       "      <td>2</td>\n",
       "      <td>Saint Paul Harbor</td>\n",
       "      <td>57.7900</td>\n",
       "      <td>-152.4072</td>\n",
       "      <td>37.40</td>\n",
       "      <td>70</td>\n",
       "      <td>90</td>\n",
       "      <td>39.12</td>\n",
       "      <td>US</td>\n",
       "      <td>1613020193</td>\n",
       "    </tr>\n",
       "    <tr>\n",
       "      <th>2</th>\n",
       "      <td>3</td>\n",
       "      <td>Luhyny</td>\n",
       "      <td>51.0820</td>\n",
       "      <td>28.4006</td>\n",
       "      <td>14.23</td>\n",
       "      <td>96</td>\n",
       "      <td>98</td>\n",
       "      <td>8.28</td>\n",
       "      <td>UA</td>\n",
       "      <td>1613020457</td>\n",
       "    </tr>\n",
       "    <tr>\n",
       "      <th>3</th>\n",
       "      <td>5</td>\n",
       "      <td>Chickasha</td>\n",
       "      <td>35.0526</td>\n",
       "      <td>-97.9364</td>\n",
       "      <td>19.40</td>\n",
       "      <td>86</td>\n",
       "      <td>90</td>\n",
       "      <td>16.11</td>\n",
       "      <td>US</td>\n",
       "      <td>1613020457</td>\n",
       "    </tr>\n",
       "    <tr>\n",
       "      <th>4</th>\n",
       "      <td>8</td>\n",
       "      <td>Vestmannaeyjar</td>\n",
       "      <td>63.4427</td>\n",
       "      <td>-20.2734</td>\n",
       "      <td>40.73</td>\n",
       "      <td>70</td>\n",
       "      <td>100</td>\n",
       "      <td>27.51</td>\n",
       "      <td>IS</td>\n",
       "      <td>1613020458</td>\n",
       "    </tr>\n",
       "  </tbody>\n",
       "</table>\n",
       "</div>"
      ],
      "text/plain": [
       "   Unnamed: 0               City  Latitude  Longitude  Max Temperature  \\\n",
       "0           0    Severo-Kuril'sk   50.6789   156.1250            27.25   \n",
       "1           2  Saint Paul Harbor   57.7900  -152.4072            37.40   \n",
       "2           3             Luhyny   51.0820    28.4006            14.23   \n",
       "3           5          Chickasha   35.0526   -97.9364            19.40   \n",
       "4           8     Vestmannaeyjar   63.4427   -20.2734            40.73   \n",
       "\n",
       "   Humidity  Cloudiness  Wind Speed Country        Date  \n",
       "0        97         100       23.33      RU  1613020362  \n",
       "1        70          90       39.12      US  1613020193  \n",
       "2        96          98        8.28      UA  1613020457  \n",
       "3        86          90       16.11      US  1613020457  \n",
       "4        70         100       27.51      IS  1613020458  "
      ]
     },
     "execution_count": 16,
     "metadata": {},
     "output_type": "execute_result"
    }
   ],
   "source": [
    "# Create Northern and Southern Hemisphere DataFrames\n",
    "\n",
    "hemi_north = df.Latitude >= 0\n",
    "hemi_south = df.Latitude < 0\n",
    "\n",
    "# Create the north and south hemisphere dataframes using boolean indexing from the criteria from above \n",
    "north_weather = df[hemi_north]\n",
    "south_weather = df[hemi_south]\n",
    "\n",
    "\n",
    "north_weather = north_weather.reset_index(drop=True)\n",
    "south_weather = south_weather.reset_index(drop=True)\n",
    "north_weather.head()"
   ]
  },
  {
   "cell_type": "markdown",
   "metadata": {},
   "source": [
    "####  Northern Hemisphere - Max Temp vs. Latitude Linear Regression"
   ]
  },
  {
   "cell_type": "code",
   "execution_count": 17,
   "metadata": {},
   "outputs": [
    {
     "name": "stdout",
     "output_type": "stream",
     "text": [
      "The r-squared is: 0.7710011775162048\n"
     ]
    },
    {
     "data": {
      "image/png": "[encoded data removed]",
      "text/plain": [
       "<Figure size 432x288 with 1 Axes>"
      ]
     },
     "metadata": {
      "needs_background": "light"
     },
     "output_type": "display_data"
    }
   ],
   "source": [
    "x_values = north_weather['Latitude']\n",
    "y_values = north_weather['Max Temperature']\n",
    "(slope, intercept, rvalue, pvalue, stderr) = linregress(x_values, y_values)\n",
    "regress_values = x_values * slope + intercept\n",
    "line_eq = \"y = \" + str(round(slope,2)) + \"x + \" + str(round(intercept,2))\n",
    "plt.scatter(x_values,y_values)\n",
    "plt.plot(x_values,regress_values,\"r-\")\n",
    "plt.annotate(line_eq,(6,10),fontsize=15,color=\"red\")\n",
    "plt.ylabel('Max Temperature')\n",
    "plt.xlabel('Latitude')\n",
    "print(f\"The r-squared is: {rvalue**2}\")\n",
    "plt.show()"
   ]
  },
  {
   "cell_type": "markdown",
   "metadata": {},
   "source": [
    "####  Southern Hemisphere - Max Temp vs. Latitude Linear Regression"
   ]
  },
  {
   "cell_type": "code",
   "execution_count": 18,
   "metadata": {},
   "outputs": [
    {
     "name": "stdout",
     "output_type": "stream",
     "text": [
      "The r-squared is: 0.10832879813184433\n"
     ]
    },
    {
     "data": {
      "image/png": "[encoded data removed]",
      "text/plain": [
       "<Figure size 432x288 with 1 Axes>"
      ]
     },
     "metadata": {
      "needs_background": "light"
     },
     "output_type": "display_data"
    }
   ],
   "source": [
    "x_values = south_weather['Latitude']\n",
    "y_values = south_weather['Max Temperature']\n",
    "(slope, intercept, rvalue, pvalue, stderr) = linregress(x_values, y_values)\n",
    "regress_values = x_values * slope + intercept\n",
    "line_eq = \"y = \" + str(round(slope,2)) + \"x + \" + str(round(intercept,2))\n",
    "plt.scatter(x_values,y_values)\n",
    "plt.plot(x_values,regress_values,\"r-\")\n",
    "plt.annotate(line_eq,(6,10),fontsize=15,color=\"red\")\n",
    "plt.ylabel('Max Temperature')\n",
    "plt.xlabel('Latitude')\n",
    "print(f\"The r-squared is: {rvalue**2}\")\n",
    "plt.show()"
   ]
  },
  {
   "cell_type": "markdown",
   "metadata": {},
   "source": [
    "####  Northern Hemisphere - Humidity (%) vs. Latitude Linear Regression"
   ]
  },
  {
   "cell_type": "code",
   "execution_count": 19,
   "metadata": {},
   "outputs": [
    {
     "name": "stdout",
     "output_type": "stream",
     "text": [
      "The r-squared is: 0.10149932966511067\n"
     ]
    },
    {
     "data": {
      "image/png": "[encoded data removed]",
      "text/plain": [
       "<Figure size 432x288 with 1 Axes>"
      ]
     },
     "metadata": {
      "needs_background": "light"
     },
     "output_type": "display_data"
    }
   ],
   "source": [
    "x_values = north_weather['Latitude']\n",
    "y_values = north_weather['Humidity']\n",
    "(slope, intercept, rvalue, pvalue, stderr) = linregress(x_values, y_values)\n",
    "regress_values = x_values * slope + intercept\n",
    "line_eq = \"y = \" + str(round(slope,2)) + \"x + \" + str(round(intercept,2))\n",
    "plt.scatter(x_values,y_values)\n",
    "plt.plot(x_values,regress_values,\"r-\")\n",
    "plt.annotate(line_eq,(6,10),fontsize=15,color=\"red\")\n",
    "plt.ylabel('Humidity')\n",
    "plt.xlabel('Latitude')\n",
    "print(f\"The r-squared is: {rvalue**2}\")\n",
    "plt.show()"
   ]
  },
  {
   "cell_type": "markdown",
   "metadata": {},
   "source": [
    "####  Southern Hemisphere - Humidity (%) vs. Latitude Linear Regression"
   ]
  },
  {
   "cell_type": "code",
   "execution_count": 20,
   "metadata": {},
   "outputs": [
    {
     "name": "stdout",
     "output_type": "stream",
     "text": [
      "The r-squared is: 0.10783179327194285\n"
     ]
    },
    {
     "data": {
      "image/png": "[encoded data removed]",
      "text/plain": [
       "<Figure size 432x288 with 1 Axes>"
      ]
     },
     "metadata": {
      "needs_background": "light"
     },
     "output_type": "display_data"
    }
   ],
   "source": [
    "x_values = south_weather['Latitude']\n",
    "y_values = south_weather['Humidity']\n",
    "(slope, intercept, rvalue, pvalue, stderr) = linregress(x_values, y_values)\n",
    "regress_values = x_values * slope + intercept\n",
    "line_eq = \"y = \" + str(round(slope,2)) + \"x + \" + str(round(intercept,2))\n",
    "plt.scatter(x_values,y_values)\n",
    "plt.plot(x_values,regress_values,\"r-\")\n",
    "plt.annotate(line_eq,(6,10),fontsize=15,color=\"red\")\n",
    "plt.ylabel('Humidity')\n",
    "plt.xlabel('Latitude')\n",
    "print(f\"The r-squared is: {rvalue**2}\")\n",
    "plt.show()"
   ]
  },
  {
   "cell_type": "markdown",
   "metadata": {},
   "source": [
    "####  Northern Hemisphere - Cloudiness (%) vs. Latitude Linear Regression"
   ]
  },
  {
   "cell_type": "code",
   "execution_count": 21,
   "metadata": {},
   "outputs": [
    {
     "name": "stdout",
     "output_type": "stream",
     "text": [
      "The r-squared is: 0.009623484004879482\n"
     ]
    },
    {
     "data": {
      "image/png": "[encoded data removed]",
      "text/plain": [
       "<Figure size 432x288 with 1 Axes>"
      ]
     },
     "metadata": {
      "needs_background": "light"
     },
     "output_type": "display_data"
    }
   ],
   "source": [
    "x_values = north_weather['Latitude']\n",
    "y_values = north_weather['Cloudiness']\n",
    "(slope, intercept, rvalue, pvalue, stderr) = linregress(x_values, y_values)\n",
    "regress_values = x_values * slope + intercept\n",
    "line_eq = \"y = \" + str(round(slope,2)) + \"x + \" + str(round(intercept,2))\n",
    "plt.scatter(x_values,y_values)\n",
    "plt.plot(x_values,regress_values,\"r-\")\n",
    "plt.annotate(line_eq,(6,10),fontsize=15,color=\"red\")\n",
    "plt.ylabel('Cloudiness')\n",
    "plt.xlabel('Latitude')\n",
    "print(f\"The r-squared is: {rvalue**2}\")\n",
    "plt.show()"
   ]
  },
  {
   "cell_type": "markdown",
   "metadata": {},
   "source": [
    "####  Southern Hemisphere - Cloudiness (%) vs. Latitude Linear Regression"
   ]
  },
  {
   "cell_type": "code",
   "execution_count": 22,
   "metadata": {},
   "outputs": [
    {
     "name": "stdout",
     "output_type": "stream",
     "text": [
      "The r-squared is: 0.05885753904489143\n"
     ]
    },
    {
     "data": {
      "image/png": "[encoded data removed]",
      "text/plain": [
       "<Figure size 432x288 with 1 Axes>"
      ]
     },
     "metadata": {
      "needs_background": "light"
     },
     "output_type": "display_data"
    }
   ],
   "source": [
    "x_values = south_weather['Latitude']\n",
    "y_values = south_weather['Cloudiness']\n",
    "(slope, intercept, rvalue, pvalue, stderr) = linregress(x_values, y_values)\n",
    "regress_values = x_values * slope + intercept\n",
    "line_eq = \"y = \" + str(round(slope,2)) + \"x + \" + str(round(intercept,2))\n",
    "plt.scatter(x_values,y_values)\n",
    "plt.plot(x_values,regress_values,\"r-\")\n",
    "plt.annotate(line_eq,(6,10),fontsize=15,color=\"red\")\n",
    "plt.ylabel('Cloudiness')\n",
    "plt.xlabel('Latitude')\n",
    "print(f\"The r-squared is: {rvalue**2}\")\n",
    "plt.show()"
   ]
  },
  {
   "cell_type": "markdown",
   "metadata": {},
   "source": [
    "####  Northern Hemisphere - Wind Speed (mph) vs. Latitude Linear Regression"
   ]
  },
  {
   "cell_type": "code",
   "execution_count": 23,
   "metadata": {},
   "outputs": [
    {
     "name": "stdout",
     "output_type": "stream",
     "text": [
      "The r-squared is: 0.011266889065935823\n"
     ]
    },
    {
     "data": {
      "image/png": "[encoded data removed]",
      "text/plain": [
       "<Figure size 432x288 with 1 Axes>"
      ]
     },
     "metadata": {
      "needs_background": "light"
     },
     "output_type": "display_data"
    }
   ],
   "source": [
    "x_values = north_weather['Latitude']\n",
    "y_values = north_weather['Wind Speed']\n",
    "(slope, intercept, rvalue, pvalue, stderr) = linregress(x_values, y_values)\n",
    "regress_values = x_values * slope + intercept\n",
    "line_eq = \"y = \" + str(round(slope,2)) + \"x + \" + str(round(intercept,2))\n",
    "plt.scatter(x_values,y_values)\n",
    "plt.plot(x_values,regress_values,\"r-\")\n",
    "plt.annotate(line_eq,(6,10),fontsize=15,color=\"red\")\n",
    "plt.ylabel('Wind Speed')\n",
    "plt.xlabel('Latitude')\n",
    "print(f\"The r-squared is: {rvalue**2}\")\n",
    "plt.show()"
   ]
  },
  {
   "cell_type": "markdown",
   "metadata": {},
   "source": [
    "####  Southern Hemisphere - Wind Speed (mph) vs. Latitude Linear Regression"
   ]
  },
  {
   "cell_type": "code",
   "execution_count": 24,
   "metadata": {},
   "outputs": [
    {
     "name": "stdout",
     "output_type": "stream",
     "text": [
      "The r-squared is: 0.09043793745238247\n"
     ]
    },
    {
     "data": {
      "image/png": "[encoded data removed]",
      "text/plain": [
       "<Figure size 432x288 with 1 Axes>"
      ]
     },
     "metadata": {
      "needs_background": "light"
     },
     "output_type": "display_data"
    }
   ],
   "source": [
    "x_values = south_weather['Latitude']\n",
    "y_values = south_weather['Wind Speed']\n",
    "(slope, intercept, rvalue, pvalue, stderr) = linregress(x_values, y_values)\n",
    "regress_values = x_values * slope + intercept\n",
    "line_eq = \"y = \" + str(round(slope,2)) + \"x + \" + str(round(intercept,2))\n",
    "plt.scatter(x_values,y_values)\n",
    "plt.plot(x_values,regress_values,\"r-\")\n",
    "plt.annotate(line_eq,(6,10),fontsize=15,color=\"red\")\n",
    "plt.xlabel('Latitude')\n",
    "plt.ylabel('Wind Speed')\n",
    "print(f\"The r-squared is: {rvalue**2}\")\n",
    "plt.show()"
   ]
  },
  {
   "cell_type": "code",
   "execution_count": null,
   "metadata": {},
   "outputs": [],
   "source": []
  }
 ],
 "metadata": {
  "anaconda-cloud": {},
  "kernel_info": {
   "name": "python3"
  },
  "kernelspec": {
   "display_name": "Python 3",
   "language": "python",
   "name": "python3"
  },
  "language_info": {
   "codemirror_mode": {
    "name": "ipython",
    "version": 3
   },
   "file_extension": ".py",
   "mimetype": "text/x-python",
   "name": "python",
   "nbconvert_exporter": "python",
   "pygments_lexer": "ipython3",
   "version": "3.8.5"
  },
  "latex_envs": {
   "LaTeX_envs_menu_present": true,
   "autoclose": false,
   "autocomplete": true,
   "bibliofile": "biblio.bib",
   "cite_by": "apalike",
   "current_citInitial": 1,
   "eqLabelWithNumbers": true,
   "eqNumInitial": 1,
   "hotkeys": {
    "equation": "Ctrl-E",
    "itemize": "Ctrl-I"
   },
   "labels_anchors": false,
   "latex_user_defs": false,
   "report_style_numbering": false,
   "user_envs_cfg": false
  },
  "nteract": {
   "version": "0.12.3"
  }
 },
 "nbformat": 4,
 "nbformat_minor": 2
}
